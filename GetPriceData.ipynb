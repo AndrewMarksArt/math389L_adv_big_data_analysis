{
 "cells": [
  {
   "cell_type": "code",
   "execution_count": 2,
   "metadata": {},
   "outputs": [
    {
     "name": "stdout",
     "output_type": "stream",
     "text": [
      "Collecting bitfinex-tencars\n",
      "  Downloading https://files.pythonhosted.org/packages/1e/a3/319c3b268bf5672ff0a6655359418ea8a00037323dd4258aa8bd2123aabd/bitfinex_tencars-0.0.3-py3-none-any.whl\n",
      "Installing collected packages: bitfinex-tencars\n",
      "Successfully installed bitfinex-tencars-0.0.3\n"
     ]
    }
   ],
   "source": [
    "!pip install bitfinex-tencars"
   ]
  },
  {
   "cell_type": "code",
   "execution_count": 19,
   "metadata": {},
   "outputs": [],
   "source": [
    "import pandas as pd\n",
    "import numpy as np\n",
    "import matplotlib.pyplot as plt\n",
    "import seaborn as sns\n",
    "\n",
    "import datetime\n",
    "import time\n",
    "\n",
    "import bitfinex"
   ]
  },
  {
   "cell_type": "code",
   "execution_count": 20,
   "metadata": {},
   "outputs": [
    {
     "name": "stdout",
     "output_type": "stream",
     "text": [
      "No keys, only access to public API functions\n"
     ]
    }
   ],
   "source": [
    "# Create api instance of the v2 API\n",
    "api_v2 = bitfinex.bitfinex_v2.api_v2()"
   ]
  },
  {
   "cell_type": "code",
   "execution_count": 21,
   "metadata": {},
   "outputs": [],
   "source": [
    "# test connection, get open, high, low, close for 1 minute BTC data --> last 1000 minutes\n",
    "result = api_v2.candles()"
   ]
  },
  {
   "cell_type": "code",
   "execution_count": 22,
   "metadata": {},
   "outputs": [],
   "source": [
    "# Define query parameters\n",
    "pair = 'btcusd'  # currency pair of interest, Bitcoin USD pair\n",
    "bin_size = '1m'  # 1m = minutes data\n",
    "limit = 1000     # maximum of 1000 data points\n",
    "\n",
    "# define start date\n",
    "t_start = datetime.datetime(2018, 4, 1, 0, 0)\n",
    "t_start = time.mktime(t_start.timetuple()) * 1000\n",
    "\n",
    "# define end date\n",
    "t_stop = datetime.datetime(2018, 4, 2, 0, 0)\n",
    "t_stop = time.mktime(t_stop.timetuple()) * 1000\n",
    "\n",
    "result = api_v2.candles(\n",
    "    symbol = pair,\n",
    "    interval = bin_size,\n",
    "    limit = limit,\n",
    "    start = t_start,\n",
    "    end = t_stop\n",
    ")"
   ]
  },
  {
   "cell_type": "code",
   "execution_count": 23,
   "metadata": {},
   "outputs": [],
   "source": [
    "# create a function to get more than 1000 data points\n",
    "def fetch_data(start, stop, symbol, interval, tick_limit, step):\n",
    "    \"\"\"\n",
    "    Lets us run larger queries, need to provide step size in milliseconds\n",
    "    \"\"\"\n",
    "    api_v2 = bitfinex.bitfinex_v2.api_v2()\n",
    "    data = []\n",
    "    start = start - step\n",
    "    while start < stop:\n",
    "        start = start + step\n",
    "        end = start + step\n",
    "        res = api_v2.candles(\n",
    "            symbol = symbol,\n",
    "            interval = interval,\n",
    "            limit = tick_limit,\n",
    "            start = start,\n",
    "            end = end\n",
    "        )\n",
    "        data.extend(res)\n",
    "        time.sleep(2)\n",
    "    return data"
   ]
  },
  {
   "cell_type": "code",
   "execution_count": 32,
   "metadata": {},
   "outputs": [
    {
     "name": "stdout",
     "output_type": "stream",
     "text": [
      "No keys, only access to public API functions\n"
     ]
    }
   ],
   "source": [
    "# set step size\n",
    "time_step = 60000000\n",
    "\n",
    "# define start date\n",
    "t_start = datetime.datetime(2020, 1, 1, 0, 0)\n",
    "t_start = time.mktime(t_start.timetuple()) * 1000\n",
    "\n",
    "# define end date\n",
    "t_stop = datetime.datetime(2020, 3, 24, 0, 0)\n",
    "t_stop = time.mktime(t_stop.timetuple()) * 1000\n",
    "\n",
    "pair_data = fetch_data(\n",
    "    start = t_start,\n",
    "    stop = t_stop,\n",
    "    symbol = pair,\n",
    "    interval = bin_size,\n",
    "    tick_limit = limit,\n",
    "    step = time_step\n",
    ")"
   ]
  },
  {
   "cell_type": "code",
   "execution_count": 43,
   "metadata": {},
   "outputs": [],
   "source": [
    "pair_data = pair_data[:-4]"
   ]
  },
  {
   "cell_type": "code",
   "execution_count": 45,
   "metadata": {},
   "outputs": [
    {
     "data": {
      "text/plain": [
       "(119306, 5)"
      ]
     },
     "execution_count": 45,
     "metadata": {},
     "output_type": "execute_result"
    }
   ],
   "source": [
    "# create a pandas data frame from results of api call\n",
    "cols = [\n",
    "    'time',\n",
    "    'open',\n",
    "    'close',\n",
    "    'high',\n",
    "    'low',\n",
    "    'volume'\n",
    "]\n",
    "\n",
    "df = pd.DataFrame(pair_data, columns = cols)\n",
    "df.drop_duplicates(inplace=True)\n",
    "df['time'] = pd.to_datetime(df['time'], unit='ms')\n",
    "df.set_index('time', inplace=True)\n",
    "df.sort_index(inplace=True)\n",
    "df.shape"
   ]
  },
  {
   "cell_type": "code",
   "execution_count": 46,
   "metadata": {},
   "outputs": [
    {
     "data": {
      "text/html": [
       "<div>\n",
       "<style scoped>\n",
       "    .dataframe tbody tr th:only-of-type {\n",
       "        vertical-align: middle;\n",
       "    }\n",
       "\n",
       "    .dataframe tbody tr th {\n",
       "        vertical-align: top;\n",
       "    }\n",
       "\n",
       "    .dataframe thead th {\n",
       "        text-align: right;\n",
       "    }\n",
       "</style>\n",
       "<table border=\"1\" class=\"dataframe\">\n",
       "  <thead>\n",
       "    <tr style=\"text-align: right;\">\n",
       "      <th></th>\n",
       "      <th>open</th>\n",
       "      <th>close</th>\n",
       "      <th>high</th>\n",
       "      <th>low</th>\n",
       "      <th>volume</th>\n",
       "    </tr>\n",
       "    <tr>\n",
       "      <th>time</th>\n",
       "      <th></th>\n",
       "      <th></th>\n",
       "      <th></th>\n",
       "      <th></th>\n",
       "      <th></th>\n",
       "    </tr>\n",
       "  </thead>\n",
       "  <tbody>\n",
       "    <tr>\n",
       "      <td>2020-01-01 08:00:00</td>\n",
       "      <td>7219.700000</td>\n",
       "      <td>7219.643269</td>\n",
       "      <td>7219.700000</td>\n",
       "      <td>7219.643269</td>\n",
       "      <td>0.003531</td>\n",
       "    </tr>\n",
       "    <tr>\n",
       "      <td>2020-01-01 08:01:00</td>\n",
       "      <td>7219.643269</td>\n",
       "      <td>7219.643269</td>\n",
       "      <td>7219.643269</td>\n",
       "      <td>7219.643269</td>\n",
       "      <td>0.006944</td>\n",
       "    </tr>\n",
       "    <tr>\n",
       "      <td>2020-01-01 08:02:00</td>\n",
       "      <td>7219.643269</td>\n",
       "      <td>7219.600000</td>\n",
       "      <td>7219.643269</td>\n",
       "      <td>7219.600000</td>\n",
       "      <td>0.015000</td>\n",
       "    </tr>\n",
       "    <tr>\n",
       "      <td>2020-01-01 08:03:00</td>\n",
       "      <td>7219.697041</td>\n",
       "      <td>7219.697041</td>\n",
       "      <td>7219.697041</td>\n",
       "      <td>7219.697041</td>\n",
       "      <td>0.200000</td>\n",
       "    </tr>\n",
       "    <tr>\n",
       "      <td>2020-01-01 08:04:00</td>\n",
       "      <td>7219.697041</td>\n",
       "      <td>7219.697041</td>\n",
       "      <td>7219.697041</td>\n",
       "      <td>7219.697041</td>\n",
       "      <td>0.010001</td>\n",
       "    </tr>\n",
       "  </tbody>\n",
       "</table>\n",
       "</div>"
      ],
      "text/plain": [
       "                            open        close         high          low  \\\n",
       "time                                                                      \n",
       "2020-01-01 08:00:00  7219.700000  7219.643269  7219.700000  7219.643269   \n",
       "2020-01-01 08:01:00  7219.643269  7219.643269  7219.643269  7219.643269   \n",
       "2020-01-01 08:02:00  7219.643269  7219.600000  7219.643269  7219.600000   \n",
       "2020-01-01 08:03:00  7219.697041  7219.697041  7219.697041  7219.697041   \n",
       "2020-01-01 08:04:00  7219.697041  7219.697041  7219.697041  7219.697041   \n",
       "\n",
       "                       volume  \n",
       "time                           \n",
       "2020-01-01 08:00:00  0.003531  \n",
       "2020-01-01 08:01:00  0.006944  \n",
       "2020-01-01 08:02:00  0.015000  \n",
       "2020-01-01 08:03:00  0.200000  \n",
       "2020-01-01 08:04:00  0.010001  "
      ]
     },
     "execution_count": 46,
     "metadata": {},
     "output_type": "execute_result"
    }
   ],
   "source": [
    "df.head()"
   ]
  },
  {
   "cell_type": "code",
   "execution_count": 47,
   "metadata": {},
   "outputs": [
    {
     "data": {
      "text/html": [
       "<div>\n",
       "<style scoped>\n",
       "    .dataframe tbody tr th:only-of-type {\n",
       "        vertical-align: middle;\n",
       "    }\n",
       "\n",
       "    .dataframe tbody tr th {\n",
       "        vertical-align: top;\n",
       "    }\n",
       "\n",
       "    .dataframe thead th {\n",
       "        text-align: right;\n",
       "    }\n",
       "</style>\n",
       "<table border=\"1\" class=\"dataframe\">\n",
       "  <thead>\n",
       "    <tr style=\"text-align: right;\">\n",
       "      <th></th>\n",
       "      <th>open</th>\n",
       "      <th>close</th>\n",
       "      <th>high</th>\n",
       "      <th>low</th>\n",
       "      <th>volume</th>\n",
       "    </tr>\n",
       "    <tr>\n",
       "      <th>time</th>\n",
       "      <th></th>\n",
       "      <th></th>\n",
       "      <th></th>\n",
       "      <th></th>\n",
       "      <th></th>\n",
       "    </tr>\n",
       "  </thead>\n",
       "  <tbody>\n",
       "    <tr>\n",
       "      <td>2020-03-25 08:36:00</td>\n",
       "      <td>6730.1</td>\n",
       "      <td>6723.0</td>\n",
       "      <td>6730.1</td>\n",
       "      <td>6718.779674</td>\n",
       "      <td>12.439059</td>\n",
       "    </tr>\n",
       "    <tr>\n",
       "      <td>2020-03-25 08:37:00</td>\n",
       "      <td>6723.0</td>\n",
       "      <td>6730.1</td>\n",
       "      <td>6730.1</td>\n",
       "      <td>6723.000000</td>\n",
       "      <td>7.295661</td>\n",
       "    </tr>\n",
       "    <tr>\n",
       "      <td>2020-03-25 08:38:00</td>\n",
       "      <td>6730.1</td>\n",
       "      <td>6722.9</td>\n",
       "      <td>6730.1</td>\n",
       "      <td>6722.900000</td>\n",
       "      <td>1.404563</td>\n",
       "    </tr>\n",
       "    <tr>\n",
       "      <td>2020-03-25 08:39:00</td>\n",
       "      <td>6722.9</td>\n",
       "      <td>6724.9</td>\n",
       "      <td>6724.9</td>\n",
       "      <td>6722.900000</td>\n",
       "      <td>1.823615</td>\n",
       "    </tr>\n",
       "    <tr>\n",
       "      <td>2020-03-25 08:40:00</td>\n",
       "      <td>6723.6</td>\n",
       "      <td>6720.0</td>\n",
       "      <td>6723.6</td>\n",
       "      <td>6720.000000</td>\n",
       "      <td>1.634946</td>\n",
       "    </tr>\n",
       "  </tbody>\n",
       "</table>\n",
       "</div>"
      ],
      "text/plain": [
       "                       open   close    high          low     volume\n",
       "time                                                               \n",
       "2020-03-25 08:36:00  6730.1  6723.0  6730.1  6718.779674  12.439059\n",
       "2020-03-25 08:37:00  6723.0  6730.1  6730.1  6723.000000   7.295661\n",
       "2020-03-25 08:38:00  6730.1  6722.9  6730.1  6722.900000   1.404563\n",
       "2020-03-25 08:39:00  6722.9  6724.9  6724.9  6722.900000   1.823615\n",
       "2020-03-25 08:40:00  6723.6  6720.0  6723.6  6720.000000   1.634946"
      ]
     },
     "execution_count": 47,
     "metadata": {},
     "output_type": "execute_result"
    }
   ],
   "source": [
    "df.tail()"
   ]
  },
  {
   "cell_type": "code",
   "execution_count": 48,
   "metadata": {},
   "outputs": [],
   "source": [
    "df.to_csv('2020_btc_minutes_data')"
   ]
  },
  {
   "cell_type": "code",
   "execution_count": null,
   "metadata": {},
   "outputs": [],
   "source": []
  },
  {
   "cell_type": "code",
   "execution_count": null,
   "metadata": {},
   "outputs": [],
   "source": []
  },
  {
   "cell_type": "code",
   "execution_count": null,
   "metadata": {},
   "outputs": [],
   "source": []
  },
  {
   "cell_type": "code",
   "execution_count": null,
   "metadata": {},
   "outputs": [],
   "source": []
  },
  {
   "cell_type": "code",
   "execution_count": null,
   "metadata": {},
   "outputs": [],
   "source": []
  },
  {
   "cell_type": "code",
   "execution_count": null,
   "metadata": {},
   "outputs": [],
   "source": []
  },
  {
   "cell_type": "code",
   "execution_count": null,
   "metadata": {},
   "outputs": [],
   "source": []
  },
  {
   "cell_type": "code",
   "execution_count": null,
   "metadata": {},
   "outputs": [],
   "source": []
  },
  {
   "cell_type": "code",
   "execution_count": null,
   "metadata": {},
   "outputs": [],
   "source": []
  }
 ],
 "metadata": {
  "kernelspec": {
   "display_name": "Python 3",
   "language": "python",
   "name": "python3"
  },
  "language_info": {
   "codemirror_mode": {
    "name": "ipython",
    "version": 3
   },
   "file_extension": ".py",
   "mimetype": "text/x-python",
   "name": "python",
   "nbconvert_exporter": "python",
   "pygments_lexer": "ipython3",
   "version": "3.7.4"
  }
 },
 "nbformat": 4,
 "nbformat_minor": 4
}
