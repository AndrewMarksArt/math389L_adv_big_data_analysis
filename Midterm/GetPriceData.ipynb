{
 "cells": [
  {
   "cell_type": "code",
   "execution_count": 2,
   "metadata": {},
   "outputs": [
    {
     "name": "stdout",
     "output_type": "stream",
     "text": [
      "Collecting bitfinex-tencars\n",
      "  Downloading https://files.pythonhosted.org/packages/1e/a3/319c3b268bf5672ff0a6655359418ea8a00037323dd4258aa8bd2123aabd/bitfinex_tencars-0.0.3-py3-none-any.whl\n",
      "Installing collected packages: bitfinex-tencars\n",
      "Successfully installed bitfinex-tencars-0.0.3\n"
     ]
    }
   ],
   "source": [
    "!pip install bitfinex-tencars"
   ]
  },
  {
   "cell_type": "code",
   "execution_count": 1,
   "metadata": {},
   "outputs": [],
   "source": [
    "import pandas as pd\n",
    "import numpy as np\n",
    "import matplotlib.pyplot as plt\n",
    "import seaborn as sns\n",
    "\n",
    "import datetime\n",
    "import time\n",
    "\n",
    "import bitfinex"
   ]
  },
  {
   "cell_type": "code",
   "execution_count": 28,
   "metadata": {},
   "outputs": [
    {
     "name": "stdout",
     "output_type": "stream",
     "text": [
      "No keys, only access to public API functions\n"
     ]
    }
   ],
   "source": [
    "# Create api instance of the v2 API\n",
    "api_v2 = bitfinex.bitfinex_v2.api_v2()"
   ]
  },
  {
   "cell_type": "code",
   "execution_count": null,
   "metadata": {},
   "outputs": [],
   "source": []
  },
  {
   "cell_type": "code",
   "execution_count": 22,
   "metadata": {},
   "outputs": [],
   "source": [
    "# test connection, get open, high, low, close for 1 minute BTC data --> last 1000 minutes\n",
    "result = api_v2.candles()"
   ]
  },
  {
   "cell_type": "code",
   "execution_count": 4,
   "metadata": {},
   "outputs": [],
   "source": [
    "# Define query parameters\n",
    "pair = 'btcusd'  # currency pair of interest, Bitcoin USD pair\n",
    "bin_size = '1m'  # 1m = minutes data\n",
    "limit = 1000     # maximum of 1000 data points\n",
    "\n",
    "# define start date\n",
    "t_start = datetime.datetime(2018, 4, 1, 0, 0)\n",
    "t_start = time.mktime(t_start.timetuple()) * 1000\n",
    "\n",
    "# define end date\n",
    "t_stop = datetime.datetime(2018, 4, 2, 0, 0)\n",
    "t_stop = time.mktime(t_stop.timetuple()) * 1000\n",
    "\n",
    "result = api_v2.candles(\n",
    "    symbol = pair,\n",
    "    interval = bin_size,\n",
    "    limit = limit,\n",
    "    start = t_start,\n",
    "    end = t_stop\n",
    ")"
   ]
  },
  {
   "cell_type": "code",
   "execution_count": 12,
   "metadata": {},
   "outputs": [],
   "source": [
    "# create a function to get more than 1000 data points\n",
    "def fetch_data(start, stop, symbol, interval, tick_limit, step):\n",
    "    \"\"\"\n",
    "    Lets us run larger queries, need to provide step size in milliseconds\n",
    "    \"\"\"\n",
    "    api_v2 = bitfinex.bitfinex_v2.api_v2()\n",
    "    data = []\n",
    "    start = start - step\n",
    "    i = 0\n",
    "    while start < stop:\n",
    "        start = start + step\n",
    "        end = start + step\n",
    "        res = api_v2.candles(\n",
    "            symbol = symbol,\n",
    "            interval = interval,\n",
    "            limit = tick_limit,\n",
    "            start = start,\n",
    "            end = end\n",
    "        )\n",
    "        data.extend(res)\n",
    "        i+=1\n",
    "        print(f'run: {i}')\n",
    "        print(start)\n",
    "        time.sleep(3)\n",
    "    return data"
   ]
  },
  {
   "cell_type": "code",
   "execution_count": 13,
   "metadata": {},
   "outputs": [
    {
     "name": "stdout",
     "output_type": "stream",
     "text": [
      "now: 2020-03-25 16:03:30.055894\n"
     ]
    }
   ],
   "source": [
    "now = datetime.datetime.now()\n",
    "print(f'now: {now}')"
   ]
  },
  {
   "cell_type": "code",
   "execution_count": null,
   "metadata": {},
   "outputs": [],
   "source": [
    "# set step size\n",
    "time_step = 60000000\n",
    "\n",
    "# define start date\n",
    "t_start = datetime.datetime(2014, 1, 1, 0, 0)\n",
    "t_start = time.mktime(t_start.timetuple()) * 1000\n",
    "\n",
    "# define end date\n",
    "t_stop = datetime.datetime.now()\n",
    "t_stop = time.mktime(t_stop.timetuple()) * 1000\n",
    "\n",
    "pair_data = fetch_data(\n",
    "    start = t_start,\n",
    "    stop = t_stop,\n",
    "    symbol = pair,\n",
    "    interval = bin_size,\n",
    "    tick_limit = limit,\n",
    "    step = time_step\n",
    ")"
   ]
  },
  {
   "cell_type": "code",
   "execution_count": 8,
   "metadata": {},
   "outputs": [
    {
     "name": "stdout",
     "output_type": "stream",
     "text": [
      "No keys, only access to public API functions\n"
     ]
    },
    {
     "data": {
      "text/plain": [
       "381"
      ]
     },
     "execution_count": 8,
     "metadata": {},
     "output_type": "execute_result"
    }
   ],
   "source": [
    "api_v1 = bitfinex.bitfinex_v1.api_v1()\n",
    "pairs = api_v1.symbols()\n",
    "len(pairs)"
   ]
  },
  {
   "cell_type": "code",
   "execution_count": 17,
   "metadata": {},
   "outputs": [
    {
     "data": {
      "text/plain": [
       "(2602679, 5)"
      ]
     },
     "execution_count": 17,
     "metadata": {},
     "output_type": "execute_result"
    }
   ],
   "source": [
    "# create a pandas data frame from results of api call\n",
    "cols = [\n",
    "    'time',\n",
    "    'open',\n",
    "    'close',\n",
    "    'high',\n",
    "    'low',\n",
    "    'volume'\n",
    "]\n",
    "\n",
    "df = pd.DataFrame(pair_data, columns = cols)\n",
    "df.drop_duplicates(inplace=True)\n",
    "df['time'] = pd.to_datetime(df['time'], unit='ms')\n",
    "df.set_index('time', inplace=True)\n",
    "df.sort_index(inplace=True)\n",
    "df.shape"
   ]
  },
  {
   "cell_type": "code",
   "execution_count": 18,
   "metadata": {},
   "outputs": [
    {
     "data": {
      "text/html": [
       "<div>\n",
       "<style scoped>\n",
       "    .dataframe tbody tr th:only-of-type {\n",
       "        vertical-align: middle;\n",
       "    }\n",
       "\n",
       "    .dataframe tbody tr th {\n",
       "        vertical-align: top;\n",
       "    }\n",
       "\n",
       "    .dataframe thead th {\n",
       "        text-align: right;\n",
       "    }\n",
       "</style>\n",
       "<table border=\"1\" class=\"dataframe\">\n",
       "  <thead>\n",
       "    <tr style=\"text-align: right;\">\n",
       "      <th></th>\n",
       "      <th>open</th>\n",
       "      <th>close</th>\n",
       "      <th>high</th>\n",
       "      <th>low</th>\n",
       "      <th>volume</th>\n",
       "    </tr>\n",
       "    <tr>\n",
       "      <th>time</th>\n",
       "      <th></th>\n",
       "      <th></th>\n",
       "      <th></th>\n",
       "      <th></th>\n",
       "      <th></th>\n",
       "    </tr>\n",
       "  </thead>\n",
       "  <tbody>\n",
       "    <tr>\n",
       "      <td>2014-01-01 08:01:00</td>\n",
       "      <td>746.99</td>\n",
       "      <td>747.00</td>\n",
       "      <td>747.00</td>\n",
       "      <td>746.99</td>\n",
       "      <td>2.000000</td>\n",
       "    </tr>\n",
       "    <tr>\n",
       "      <td>2014-01-01 08:02:00</td>\n",
       "      <td>743.89</td>\n",
       "      <td>744.89</td>\n",
       "      <td>744.89</td>\n",
       "      <td>743.89</td>\n",
       "      <td>0.020695</td>\n",
       "    </tr>\n",
       "    <tr>\n",
       "      <td>2014-01-01 08:04:00</td>\n",
       "      <td>745.01</td>\n",
       "      <td>745.00</td>\n",
       "      <td>745.01</td>\n",
       "      <td>745.00</td>\n",
       "      <td>0.900000</td>\n",
       "    </tr>\n",
       "    <tr>\n",
       "      <td>2014-01-01 08:05:00</td>\n",
       "      <td>747.00</td>\n",
       "      <td>747.30</td>\n",
       "      <td>747.30</td>\n",
       "      <td>747.00</td>\n",
       "      <td>2.500000</td>\n",
       "    </tr>\n",
       "    <tr>\n",
       "      <td>2014-01-01 08:07:00</td>\n",
       "      <td>744.87</td>\n",
       "      <td>744.87</td>\n",
       "      <td>744.87</td>\n",
       "      <td>744.87</td>\n",
       "      <td>1.230769</td>\n",
       "    </tr>\n",
       "  </tbody>\n",
       "</table>\n",
       "</div>"
      ],
      "text/plain": [
       "                       open   close    high     low    volume\n",
       "time                                                         \n",
       "2014-01-01 08:01:00  746.99  747.00  747.00  746.99  2.000000\n",
       "2014-01-01 08:02:00  743.89  744.89  744.89  743.89  0.020695\n",
       "2014-01-01 08:04:00  745.01  745.00  745.01  745.00  0.900000\n",
       "2014-01-01 08:05:00  747.00  747.30  747.30  747.00  2.500000\n",
       "2014-01-01 08:07:00  744.87  744.87  744.87  744.87  1.230769"
      ]
     },
     "execution_count": 18,
     "metadata": {},
     "output_type": "execute_result"
    }
   ],
   "source": [
    "df.head()"
   ]
  },
  {
   "cell_type": "code",
   "execution_count": 19,
   "metadata": {},
   "outputs": [
    {
     "data": {
      "text/html": [
       "<div>\n",
       "<style scoped>\n",
       "    .dataframe tbody tr th:only-of-type {\n",
       "        vertical-align: middle;\n",
       "    }\n",
       "\n",
       "    .dataframe tbody tr th {\n",
       "        vertical-align: top;\n",
       "    }\n",
       "\n",
       "    .dataframe thead th {\n",
       "        text-align: right;\n",
       "    }\n",
       "</style>\n",
       "<table border=\"1\" class=\"dataframe\">\n",
       "  <thead>\n",
       "    <tr style=\"text-align: right;\">\n",
       "      <th></th>\n",
       "      <th>open</th>\n",
       "      <th>close</th>\n",
       "      <th>high</th>\n",
       "      <th>low</th>\n",
       "      <th>volume</th>\n",
       "    </tr>\n",
       "    <tr>\n",
       "      <th>time</th>\n",
       "      <th></th>\n",
       "      <th></th>\n",
       "      <th></th>\n",
       "      <th></th>\n",
       "      <th></th>\n",
       "    </tr>\n",
       "  </thead>\n",
       "  <tbody>\n",
       "    <tr>\n",
       "      <td>2020-03-26 02:07:00</td>\n",
       "      <td>6700.400000</td>\n",
       "      <td>6700.0</td>\n",
       "      <td>6700.400000</td>\n",
       "      <td>6700.0</td>\n",
       "      <td>0.440617</td>\n",
       "    </tr>\n",
       "    <tr>\n",
       "      <td>2020-03-26 02:08:00</td>\n",
       "      <td>6700.000000</td>\n",
       "      <td>6681.5</td>\n",
       "      <td>6700.008115</td>\n",
       "      <td>6675.1</td>\n",
       "      <td>20.049320</td>\n",
       "    </tr>\n",
       "    <tr>\n",
       "      <td>2020-03-26 02:09:00</td>\n",
       "      <td>6681.400000</td>\n",
       "      <td>6677.9</td>\n",
       "      <td>6681.400000</td>\n",
       "      <td>6676.1</td>\n",
       "      <td>0.502999</td>\n",
       "    </tr>\n",
       "    <tr>\n",
       "      <td>2020-03-26 02:10:00</td>\n",
       "      <td>6679.800000</td>\n",
       "      <td>6679.7</td>\n",
       "      <td>6680.900000</td>\n",
       "      <td>6676.0</td>\n",
       "      <td>0.821444</td>\n",
       "    </tr>\n",
       "    <tr>\n",
       "      <td>2020-03-26 02:11:00</td>\n",
       "      <td>6679.754384</td>\n",
       "      <td>6677.5</td>\n",
       "      <td>6679.800000</td>\n",
       "      <td>6677.5</td>\n",
       "      <td>0.693173</td>\n",
       "    </tr>\n",
       "  </tbody>\n",
       "</table>\n",
       "</div>"
      ],
      "text/plain": [
       "                            open   close         high     low     volume\n",
       "time                                                                    \n",
       "2020-03-26 02:07:00  6700.400000  6700.0  6700.400000  6700.0   0.440617\n",
       "2020-03-26 02:08:00  6700.000000  6681.5  6700.008115  6675.1  20.049320\n",
       "2020-03-26 02:09:00  6681.400000  6677.9  6681.400000  6676.1   0.502999\n",
       "2020-03-26 02:10:00  6679.800000  6679.7  6680.900000  6676.0   0.821444\n",
       "2020-03-26 02:11:00  6679.754384  6677.5  6679.800000  6677.5   0.693173"
      ]
     },
     "execution_count": 19,
     "metadata": {},
     "output_type": "execute_result"
    }
   ],
   "source": [
    "df.tail()"
   ]
  },
  {
   "cell_type": "code",
   "execution_count": 20,
   "metadata": {},
   "outputs": [],
   "source": [
    "df.to_csv('2014_to_march2020_btc_minutes_data')"
   ]
  },
  {
   "cell_type": "code",
   "execution_count": 21,
   "metadata": {},
   "outputs": [
    {
     "data": {
      "text/html": [
       "<div>\n",
       "<style scoped>\n",
       "    .dataframe tbody tr th:only-of-type {\n",
       "        vertical-align: middle;\n",
       "    }\n",
       "\n",
       "    .dataframe tbody tr th {\n",
       "        vertical-align: top;\n",
       "    }\n",
       "\n",
       "    .dataframe thead th {\n",
       "        text-align: right;\n",
       "    }\n",
       "</style>\n",
       "<table border=\"1\" class=\"dataframe\">\n",
       "  <thead>\n",
       "    <tr style=\"text-align: right;\">\n",
       "      <th></th>\n",
       "      <th>open</th>\n",
       "      <th>close</th>\n",
       "      <th>high</th>\n",
       "      <th>low</th>\n",
       "      <th>volume</th>\n",
       "    </tr>\n",
       "  </thead>\n",
       "  <tbody>\n",
       "    <tr>\n",
       "      <td>count</td>\n",
       "      <td>2.602679e+06</td>\n",
       "      <td>2.602679e+06</td>\n",
       "      <td>2.602679e+06</td>\n",
       "      <td>2.602679e+06</td>\n",
       "      <td>2.602679e+06</td>\n",
       "    </tr>\n",
       "    <tr>\n",
       "      <td>mean</td>\n",
       "      <td>4.315850e+03</td>\n",
       "      <td>4.315847e+03</td>\n",
       "      <td>4.318177e+03</td>\n",
       "      <td>4.313520e+03</td>\n",
       "      <td>2.003078e+01</td>\n",
       "    </tr>\n",
       "    <tr>\n",
       "      <td>std</td>\n",
       "      <td>3.976228e+03</td>\n",
       "      <td>3.976225e+03</td>\n",
       "      <td>3.979053e+03</td>\n",
       "      <td>3.973399e+03</td>\n",
       "      <td>6.443221e+01</td>\n",
       "    </tr>\n",
       "    <tr>\n",
       "      <td>min</td>\n",
       "      <td>1.670000e+02</td>\n",
       "      <td>1.670000e+02</td>\n",
       "      <td>1.699600e+02</td>\n",
       "      <td>1.620000e+02</td>\n",
       "      <td>1.000000e-08</td>\n",
       "    </tr>\n",
       "    <tr>\n",
       "      <td>25%</td>\n",
       "      <td>5.776847e+02</td>\n",
       "      <td>5.777000e+02</td>\n",
       "      <td>5.779000e+02</td>\n",
       "      <td>5.774600e+02</td>\n",
       "      <td>7.278070e-01</td>\n",
       "    </tr>\n",
       "    <tr>\n",
       "      <td>50%</td>\n",
       "      <td>3.676000e+03</td>\n",
       "      <td>3.676000e+03</td>\n",
       "      <td>3.677000e+03</td>\n",
       "      <td>3.675100e+03</td>\n",
       "      <td>4.103125e+00</td>\n",
       "    </tr>\n",
       "    <tr>\n",
       "      <td>75%</td>\n",
       "      <td>7.497073e+03</td>\n",
       "      <td>7.497100e+03</td>\n",
       "      <td>7.499500e+03</td>\n",
       "      <td>7.495000e+03</td>\n",
       "      <td>1.594572e+01</td>\n",
       "    </tr>\n",
       "    <tr>\n",
       "      <td>max</td>\n",
       "      <td>1.989000e+04</td>\n",
       "      <td>1.989100e+04</td>\n",
       "      <td>1.989100e+04</td>\n",
       "      <td>1.988000e+04</td>\n",
       "      <td>7.228079e+03</td>\n",
       "    </tr>\n",
       "  </tbody>\n",
       "</table>\n",
       "</div>"
      ],
      "text/plain": [
       "               open         close          high           low        volume\n",
       "count  2.602679e+06  2.602679e+06  2.602679e+06  2.602679e+06  2.602679e+06\n",
       "mean   4.315850e+03  4.315847e+03  4.318177e+03  4.313520e+03  2.003078e+01\n",
       "std    3.976228e+03  3.976225e+03  3.979053e+03  3.973399e+03  6.443221e+01\n",
       "min    1.670000e+02  1.670000e+02  1.699600e+02  1.620000e+02  1.000000e-08\n",
       "25%    5.776847e+02  5.777000e+02  5.779000e+02  5.774600e+02  7.278070e-01\n",
       "50%    3.676000e+03  3.676000e+03  3.677000e+03  3.675100e+03  4.103125e+00\n",
       "75%    7.497073e+03  7.497100e+03  7.499500e+03  7.495000e+03  1.594572e+01\n",
       "max    1.989000e+04  1.989100e+04  1.989100e+04  1.988000e+04  7.228079e+03"
      ]
     },
     "execution_count": 21,
     "metadata": {},
     "output_type": "execute_result"
    }
   ],
   "source": [
    "df.describe()"
   ]
  },
  {
   "cell_type": "code",
   "execution_count": 27,
   "metadata": {},
   "outputs": [
    {
     "data": {
      "image/png": "[encoded data removed]",
      "text/plain": [
       "<Figure size 432x288 with 1 Axes>"
      ]
     },
     "metadata": {
      "needs_background": "light"
     },
     "output_type": "display_data"
    }
   ],
   "source": [
    "plt.plot(df['close']);"
   ]
  },
  {
   "cell_type": "code",
   "execution_count": null,
   "metadata": {},
   "outputs": [],
   "source": []
  },
  {
   "cell_type": "code",
   "execution_count": null,
   "metadata": {},
   "outputs": [],
   "source": []
  },
  {
   "cell_type": "code",
   "execution_count": null,
   "metadata": {},
   "outputs": [],
   "source": []
  },
  {
   "cell_type": "code",
   "execution_count": null,
   "metadata": {},
   "outputs": [],
   "source": []
  },
  {
   "cell_type": "code",
   "execution_count": null,
   "metadata": {},
   "outputs": [],
   "source": []
  },
  {
   "cell_type": "code",
   "execution_count": null,
   "metadata": {},
   "outputs": [],
   "source": []
  },
  {
   "cell_type": "code",
   "execution_count": null,
   "metadata": {},
   "outputs": [],
   "source": []
  }
 ],
 "metadata": {
  "kernelspec": {
   "display_name": "Python 3",
   "language": "python",
   "name": "python3"
  },
  "language_info": {
   "codemirror_mode": {
    "name": "ipython",
    "version": 3
   },
   "file_extension": ".py",
   "mimetype": "text/x-python",
   "name": "python",
   "nbconvert_exporter": "python",
   "pygments_lexer": "ipython3",
   "version": "3.7.4"
  }
 },
 "nbformat": 4,
 "nbformat_minor": 4
}
